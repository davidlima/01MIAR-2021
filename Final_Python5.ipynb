{
 "cells": [
  {
   "cell_type": "markdown",
   "metadata": {},
   "source": [
    "<a id='0'></a>"
   ]
  },
  {
   "cell_type": "markdown",
   "metadata": {},
   "source": [
    "# Python MIAR 2021\n"
   ]
  },
  {
   "cell_type": "code",
   "execution_count": 1,
   "metadata": {},
   "outputs": [
    {
     "name": "stdout",
     "output_type": "stream",
     "text": [
      "30-05-2021 11:52:50\n"
     ]
    }
   ],
   "source": [
    "from IPython import display\n",
    "from datetime import datetime\n",
    "print(datetime.now().strftime(\"%d-%m-%Y %H:%M:%S\"))\n",
    "path0=\"https://github.com/davidlima/01MIAR-2021/raw/main/data/\""
   ]
  },
  {
   "cell_type": "markdown",
   "metadata": {},
   "source": [
    "\n",
    "## Objetivo del trabajo\n",
    "- Mediante la descarga de datos procedentes de Aemet se han obtenido los datos sobre temperaturas, velocidad del viento y precipitaciones historicas en todas las estaciones metereológicas de España que se guardan en dicha base de datos y que se han centrado en el año 2020.\n",
    "- Una vez procesados, unidos  y limpiados todos los datos se ha procedido a mostrar dichos datos en una primera parte a través de un mapa interactivo como el de la foto.\n"
   ]
  },
  {
   "cell_type": "code",
   "execution_count": null,
   "metadata": {},
   "outputs": [],
   "source": [
    "display.Image(\"img/target.png\")"
   ]
  },
  {
   "cell_type": "markdown",
   "metadata": {},
   "source": [
    "- Este mapa genera a través folium con datos GeoJson los límites de cada provincia.\n",
    "- Mediante la manipulación de los DataFrame obtenidos en Aemet y los datos de GeoJson se asocian por ubicación geográfica las medias, máximas y mínimas de temperaturas.\n",
    "- Toda la información se muestra en un único plano de España donde  moviendose con el ratón se pueden observar cualquiera de estos datos previamente clasificados.\n",
    "- La información de cada provincia se puede acceder haciendo click, pasando el ratón por encima o buscando el nombre en un buscador insertado en el mapa"
   ]
  },
  {
   "cell_type": "code",
   "execution_count": null,
   "metadata": {},
   "outputs": [],
   "source": [
    "display.Image(\"img/provincias_temperatura_anuales.png\")"
   ]
  },
  {
   "cell_type": "markdown",
   "metadata": {},
   "source": [
    "- Tambien se ha generado 4 capas de mapas para poder separar informaciones por código de colores según temperaturas máx,min, media,...\n",
    "- El siguiente paso ha sido dar algo más de información visual añadiendo a cada una de las provincias, mapas independientes y tambien interactivos. De manera que haciendo click en cada una de las provincias se pueda acceder a una gráfica popup con los valores mensuales según la gráfica escogida."
   ]
  },
  {
   "cell_type": "code",
   "execution_count": null,
   "metadata": {},
   "outputs": [],
   "source": [
    "display.Image(\"img/grafica temperatura mensual por provincias.png\")"
   ]
  },
  {
   "cell_type": "code",
   "execution_count": null,
   "metadata": {},
   "outputs": [],
   "source": [
    "display.Image(\"img/grafica precipitacion mensual por provincias.png\")"
   ]
  },
  {
   "cell_type": "code",
   "execution_count": null,
   "metadata": {},
   "outputs": [],
   "source": [
    "display.Image(\"img/grafica viento mensual por provincias.png\")"
   ]
  },
  {
   "cell_type": "markdown",
   "metadata": {},
   "source": [
    "- El código se ha realizado integramente en Jupyter Notebook\n",
    " - En mi caso he tenido que actualizar e instalar algunas librerias diferentes a las clásicas como:\n",
    "   - !pip install pyproj --upgrade \n",
    "   - !pip install geopandas --upgrade \n",
    "   - !pip install vincent"
   ]
  },
  {
   "cell_type": "markdown",
   "metadata": {},
   "source": [
    "## Indice\n",
    "[0. Librerias necesarias](#00)\n",
    "\n",
    "[1. Obtención de datos](#1)\n",
    "\n",
    "- a) [Lectura de un archivo de muestra](#1a)\n",
    "- b) [Limpieza y Eliminación de datos incorrectos](#1b)\n",
    "- c) [Añadir datos extra](#1c)\n",
    "- d) [Generar un único DataFrame Global con todos los archivos procesados](#1d)\n",
    "\n",
    "[2. Mostrar información](#2)\n",
    "\n",
    "- a) [Preparación del mapa](#2a)\n",
    "- b) [Generar estadísticas de (Aemet) dentro del plano (GeoJSON)](#2b)\n",
    "- c) [Generar Tooltip (iconos)](#2c)\n",
    "- d) [Mapa por capas Temperatura (Máx,Med,Mín)](#2d)\n",
    "- e) [Genera gráfico Popup por provincia](#2e)\n",
    "- f) [Mapa Popup gráfico por provincia](#2f)\n",
    "- g) [Función Generadora gráfico Popup por provincia (genérico)](#2g)\n",
    "- h) [Función Mapa Popup gráfico por provincia](#2h)\n",
    "- i) [Mapa gráfico velocidad del viento por provincia.](#2i)\n",
    "- j) [Mapa gráfico precipitaciones por provincia.](#2i)"
   ]
  },
  {
   "cell_type": "markdown",
   "metadata": {},
   "source": [
    "<a id='00'></a>[Home](#0)\n",
    "### 0. Librerias necesarias y variables inciales"
   ]
  },
  {
   "cell_type": "code",
   "execution_count": 20,
   "metadata": {},
   "outputs": [],
   "source": [
    "import geopandas\n",
    "import pandas as pd\n",
    "import numpy as np\n",
    "import branca\n",
    "import json\n",
    "import folium\n",
    "from folium.plugins import Search,MiniMap\n",
    "from folium import plugins,features\n",
    "import vincent\n",
    "import random\n",
    "import time\n",
    "year=\"2020\""
   ]
  },
  {
   "cell_type": "markdown",
   "metadata": {},
   "source": [
    "<a id='1'></a>\n",
    "### 1. Obtención de datos\n",
    "- Archivos descargados de enlaces de  [Aemet web](https://opendata.aemet.es/centrodedescargas/productosAEMET?) \n",
    "- Obtenidos en xls y guardados en la carpeta github.com ... Aemet2020-yyyy-mm-dd.xls\n",
    "- Cada día del año tiene asociado un único archivo.xls con todas las estacioens meteoriológicas de España\n",
    "- En cada uno de estos archivos se guardan datos diarios de:\n",
    " - Estación de captura.\n",
    " - Provincia.\n",
    " - Temperatura máxima.\n",
    " - Temperatura mínima.\n",
    " - Temperatura média.\n",
    " - Velocidad del viento.\n",
    " - Precipitaciones.\n",
    " - #### ...\n",
    " \n",
    " \n",
    "\n",
    "\n",
    "\n"
   ]
  },
  {
   "cell_type": "markdown",
   "metadata": {},
   "source": [
    "<a id='1a'></a> [Home](#0)\n",
    "### 1.a) Lectura de un archivo de muestra\n",
    "- Procedo a leer un archivo de un día en concreto y observar que datos hay en ese fichero\n",
    "- data\\Aemet2020-01-01.xls"
   ]
  },
  {
   "cell_type": "code",
   "execution_count": null,
   "metadata": {},
   "outputs": [],
   "source": []
  },
  {
   "cell_type": "code",
   "execution_count": 22,
   "metadata": {},
   "outputs": [
    {
     "name": "stdout",
     "output_type": "stream",
     "text": [
      "https://github.com/davidlima/01MIAR-2021/raw/main/data/Aemet2020-01-01.xls\n"
     ]
    },
    {
     "data": {
      "text/html": [
       "<div>\n",
       "<style scoped>\n",
       "    .dataframe tbody tr th:only-of-type {\n",
       "        vertical-align: middle;\n",
       "    }\n",
       "\n",
       "    .dataframe tbody tr th {\n",
       "        vertical-align: top;\n",
       "    }\n",
       "\n",
       "    .dataframe thead th {\n",
       "        text-align: right;\n",
       "    }\n",
       "</style>\n",
       "<table border=\"1\" class=\"dataframe\">\n",
       "  <thead>\n",
       "    <tr style=\"text-align: right;\">\n",
       "      <th></th>\n",
       "      <th>España</th>\n",
       "      <th>Unnamed: 1</th>\n",
       "      <th>Unnamed: 2</th>\n",
       "      <th>Unnamed: 3</th>\n",
       "      <th>Unnamed: 4</th>\n",
       "      <th>Unnamed: 5</th>\n",
       "      <th>Unnamed: 6</th>\n",
       "      <th>Unnamed: 7</th>\n",
       "      <th>Unnamed: 8</th>\n",
       "      <th>Unnamed: 9</th>\n",
       "      <th>Unnamed: 10</th>\n",
       "      <th>Unnamed: 11</th>\n",
       "    </tr>\n",
       "  </thead>\n",
       "  <tbody>\n",
       "    <tr>\n",
       "      <th>0</th>\n",
       "      <td>Actualizado: jueves, 02 enero 2020 a las 18:00...</td>\n",
       "      <td>NaN</td>\n",
       "      <td>NaN</td>\n",
       "      <td>NaN</td>\n",
       "      <td>NaN</td>\n",
       "      <td>NaN</td>\n",
       "      <td>NaN</td>\n",
       "      <td>NaN</td>\n",
       "      <td>NaN</td>\n",
       "      <td>NaN</td>\n",
       "      <td>NaN</td>\n",
       "      <td>NaN</td>\n",
       "    </tr>\n",
       "    <tr>\n",
       "      <th>1</th>\n",
       "      <td>Fecha: miércoles, 01 enero 2020</td>\n",
       "      <td>NaN</td>\n",
       "      <td>NaN</td>\n",
       "      <td>NaN</td>\n",
       "      <td>NaN</td>\n",
       "      <td>NaN</td>\n",
       "      <td>NaN</td>\n",
       "      <td>NaN</td>\n",
       "      <td>NaN</td>\n",
       "      <td>NaN</td>\n",
       "      <td>NaN</td>\n",
       "      <td>NaN</td>\n",
       "    </tr>\n",
       "    <tr>\n",
       "      <th>2</th>\n",
       "      <td>NaN</td>\n",
       "      <td>NaN</td>\n",
       "      <td>NaN</td>\n",
       "      <td>NaN</td>\n",
       "      <td>NaN</td>\n",
       "      <td>NaN</td>\n",
       "      <td>NaN</td>\n",
       "      <td>NaN</td>\n",
       "      <td>NaN</td>\n",
       "      <td>NaN</td>\n",
       "      <td>NaN</td>\n",
       "      <td>NaN</td>\n",
       "    </tr>\n",
       "    <tr>\n",
       "      <th>3</th>\n",
       "      <td>Estación</td>\n",
       "      <td>Provincia</td>\n",
       "      <td>Temperatura máxima (ºC)</td>\n",
       "      <td>Temperatura mínima (ºC)</td>\n",
       "      <td>Temperatura media (ºC)</td>\n",
       "      <td>Racha (km/h)</td>\n",
       "      <td>Velocidad máxima (km/h)</td>\n",
       "      <td>Precipitación 00-24h (mm)</td>\n",
       "      <td>Precipitación 00-06h (mm)</td>\n",
       "      <td>Precipitación 06-12h (mm)</td>\n",
       "      <td>Precipitación 12-18h (mm)</td>\n",
       "      <td>Precipitación 18-24h (mm)</td>\n",
       "    </tr>\n",
       "    <tr>\n",
       "      <th>4</th>\n",
       "      <td>Estaca de Bares</td>\n",
       "      <td>A Coruña</td>\n",
       "      <td>10.6 (00:00)</td>\n",
       "      <td>8.0 (21:00)</td>\n",
       "      <td>9.3</td>\n",
       "      <td>23 (18:40)</td>\n",
       "      <td>18 (18:40)</td>\n",
       "      <td>0</td>\n",
       "      <td>0</td>\n",
       "      <td>0</td>\n",
       "      <td>0</td>\n",
       "      <td>0</td>\n",
       "    </tr>\n",
       "  </tbody>\n",
       "</table>\n",
       "</div>"
      ],
      "text/plain": [
       "                                              España Unnamed: 1  \\\n",
       "0  Actualizado: jueves, 02 enero 2020 a las 18:00...        NaN   \n",
       "1                    Fecha: miércoles, 01 enero 2020        NaN   \n",
       "2                                                NaN        NaN   \n",
       "3                                           Estación  Provincia   \n",
       "4                                    Estaca de Bares   A Coruña   \n",
       "\n",
       "                Unnamed: 2               Unnamed: 3              Unnamed: 4  \\\n",
       "0                      NaN                      NaN                     NaN   \n",
       "1                      NaN                      NaN                     NaN   \n",
       "2                      NaN                      NaN                     NaN   \n",
       "3  Temperatura máxima (ºC)  Temperatura mínima (ºC)  Temperatura media (ºC)   \n",
       "4             10.6 (00:00)              8.0 (21:00)                     9.3   \n",
       "\n",
       "     Unnamed: 5               Unnamed: 6                 Unnamed: 7  \\\n",
       "0           NaN                      NaN                        NaN   \n",
       "1           NaN                      NaN                        NaN   \n",
       "2           NaN                      NaN                        NaN   \n",
       "3  Racha (km/h)  Velocidad máxima (km/h)  Precipitación 00-24h (mm)   \n",
       "4    23 (18:40)               18 (18:40)                          0   \n",
       "\n",
       "                  Unnamed: 8                 Unnamed: 9  \\\n",
       "0                        NaN                        NaN   \n",
       "1                        NaN                        NaN   \n",
       "2                        NaN                        NaN   \n",
       "3  Precipitación 00-06h (mm)  Precipitación 06-12h (mm)   \n",
       "4                          0                          0   \n",
       "\n",
       "                 Unnamed: 10                Unnamed: 11  \n",
       "0                        NaN                        NaN  \n",
       "1                        NaN                        NaN  \n",
       "2                        NaN                        NaN  \n",
       "3  Precipitación 12-18h (mm)  Precipitación 18-24h (mm)  \n",
       "4                          0                          0  "
      ]
     },
     "execution_count": 22,
     "metadata": {},
     "output_type": "execute_result"
    }
   ],
   "source": [
    "url =path0+\"Aemet2020-01-01.xls\"\n",
    "print(url)\n",
    "xl = pd.ExcelFile(url)\n",
    "xl.sheet_names\n",
    "df = xl.parse(xl.sheet_names[0])\n",
    "df.head(5)\n"
   ]
  },
  {
   "cell_type": "markdown",
   "metadata": {},
   "source": [
    "<a id='1b'></a> [Home](#0)\n",
    "### 1.b) Limpieza y Eliminación de datos incorrectos\n",
    "- Observo que las 3 primeras filas NO contienen información y los nombres de las columnas estan escritos en la cuarta fila\n",
    "- Renombro las columnas con los nombres de la fila nº3 \n",
    "- Elimino las 4 primeras filas y reinicio los indices del DataFrame"
   ]
  },
  {
   "cell_type": "code",
   "execution_count": null,
   "metadata": {},
   "outputs": [],
   "source": [
    "#  Renombro las columnas con los nombres de la fila nº3 \n",
    "df=df.rename(columns = df.iloc[3]) \n",
    "# Elimino las 4 primeras filas y reinicio los indices del DataFrame\n",
    "df=df[4:].reset_index(drop = True) \n",
    "df.head(6)"
   ]
  },
  {
   "cell_type": "markdown",
   "metadata": {},
   "source": [
    "- Observo que hay valores con datos in correctos NaN, columnas no necesarias y horas como por ejemplo (15:50) que molestan para el tratamiento de los datos\n",
    "- Procedo a corregirlo"
   ]
  },
  {
   "cell_type": "code",
   "execution_count": null,
   "metadata": {},
   "outputs": [],
   "source": [
    "#Eliminamos filas con datos NaN\n",
    "df.dropna(inplace=True)\n",
    "#Elimino columnas no necesarias\n",
    "df=df.drop(['Estación','Racha (km/h)',\\\n",
    "            'Precipitación 00-06h (mm)','Precipitación 06-12h (mm)',\\\n",
    "            'Precipitación 12-18h (mm)','Precipitación 18-24h (mm)'],axis=1)\n",
    "\n",
    "def elimina_anomalias(texto):\n",
    "    try:\n",
    "        index = texto.index('(')\n",
    "        texto=texto[:index]\n",
    "    except:\n",
    "        pass\n",
    "    try:texto=float(texto)\n",
    "    except:pass\n",
    "    return texto\n",
    "\n",
    "#Elimino mediante la funcion elimina_anomalias caracteres no útiles \n",
    "#y luego los convierto a float para poderlos tratar más adelante\n",
    "for a in df.keys():\n",
    "    df[a]=df[a].apply(elimina_anomalias)\n",
    "df=df.reset_index(drop=True)\n",
    "df.head(6)"
   ]
  },
  {
   "cell_type": "markdown",
   "metadata": {},
   "source": [
    "<a id='1c'></a> [Home](#0)\n",
    "### 1.c) Añadir datos extra\n",
    "- Añado datos necesarios para el posterior procesamiento como Mes, día y año.\n",
    " - Posteriormente lo tendremos que hacer con cada uno de los archivos diarios."
   ]
  },
  {
   "cell_type": "code",
   "execution_count": null,
   "metadata": {},
   "outputs": [],
   "source": [
    "# añado datos necesarios para un posterior anlisis: día, mes y año del fichero leido\n",
    "year_ = [int(2020)]*len(df)\n",
    "mont_ = [int(1)]*len(df)\n",
    "day_ = [int(1)]*len(df)\n",
    "df_temp=pd.DataFrame({'Día':day_,'Mes':mont_,'Año':year_})\n",
    "df=df_temp.join(df)\n",
    "df.head(8)"
   ]
  },
  {
   "cell_type": "markdown",
   "metadata": {},
   "source": [
    "<a id='1d'></a> [Home](#0)\n",
    "### 1.d) Generar un único DataFrame Global con todos los archivos procesados\n",
    "- Despues de analizar y limpiar un único archivo, \n",
    "- Procedo a generar un único DataFrame con todos los archivos de cada uno de los días del año 2020 mediante la funcion Generar_df_2020\n",
    " - Generar_df_2020 utiliza todos los procedimientos utilizados anteriormente y unidos en una única función. Repitiendo el proceso 31 veces por días máximos posibles por cada mes y a su vez por 12 meses. Localizando así el archivo de cada día y añadiendolo al DataFrame Global"
   ]
  },
  {
   "cell_type": "code",
   "execution_count": null,
   "metadata": {},
   "outputs": [],
   "source": [
    "def Generar_df_2020():\n",
    "    for mes_ in range(1,13):\n",
    "        mes=\"{:02d}\".format(mes_)\n",
    "        for dia_ in range(1,32):\n",
    "            #Cuando el día es inferior a 2 dígitos le añado un 0 para que coincida con el nombre guardado\n",
    "            dia=\"{:02d}\".format(dia_)\n",
    "            #La fecha del archivo se tiene que abrir con nombre AemetYYYY-MM-DD\n",
    "            file=path0+\"Aemet{}-{}-{}.xls\".format(year,mes,dia)\n",
    "            # el try está para evitar problemas cuando se intente buscar \n",
    "            # un archivo con una fecha no válida por ejempo el 30 de febrero\n",
    "            try:\n",
    "                xl = pd.ExcelFile(file)\n",
    "                xl.sheet_names\n",
    "                #se carga el archivo inicial en el dataframe df\n",
    "                df = xl.parse(xl.sheet_names[0])\n",
    "\n",
    "                #  Renombro las columnas con los nombres de la fila nº3 \n",
    "                df=df.rename(columns = df.iloc[3]) \n",
    "                # Elimino las 4 primeras filas y reinicio los indices del DataFrame\n",
    "                df=df[4:].reset_index(drop = True) \n",
    "\n",
    "                #Eliminamos filas con datos NaN\n",
    "                df.dropna(inplace=True)\n",
    "                #Elimino columnas no necesarias\n",
    "                df=df.drop(['Estación','Racha (km/h)',\\\n",
    "                            'Precipitación 00-06h (mm)','Precipitación 06-12h (mm)',\\\n",
    "                            'Precipitación 12-18h (mm)','Precipitación 18-24h (mm)'],axis=1)\n",
    "\n",
    "                #Elimino mediante la funcion elimina_anomalias caracteres no utiles \n",
    "                #y luego los convierto a float para poderlos tratar más adelante\n",
    "                for a in df.keys():\n",
    "                    df[a]=df[a].apply(elimina_anomalias)\n",
    "                df=df.reset_index(drop=True)\n",
    "\n",
    "                # añado datos necesarios para un posterior anlisis: día, mes y año del fichero leido\n",
    "                # añado tantos años, mese y dias como líneas tiene el DataFrame descargado\n",
    "                year_ = [int(2020)]*len(df)\n",
    "                month_ = [int(mes_)]*len(df)\n",
    "                day_ = [int(dia_)]*len(df)\n",
    "                df_temp=pd.DataFrame({'Día':day_,'Mes':month_,'Año':year_})\n",
    "                # uno el dataframe descargado con las columnas nuevas añadidas\n",
    "                df=df_temp.join(df)\n",
    "                \n",
    "                # en cada iteración voy uniendo el nuevo archivo con los anteriores\n",
    "                try:\n",
    "                    df_final=pd.concat([df_final,df])\n",
    "\n",
    "                except:\n",
    "                    df_final=df.copy()\n",
    "            except:\n",
    "                pass\n",
    "        print(\"Generando DataFrame global (df_final)\", file,end=\"\\r\")\n",
    "    print(\"DataFrame df_final finalizado!                                 \")    \n",
    "    #procedo a resetear el indice ya que cada DataFrame concatenado lleva sus propios índices\n",
    "    df_final=df_final.reset_index(drop=True).sort_values(by=['Provincia'])\n",
    "    df_final.sample(5)\n",
    "    return df_final\n",
    "    \n",
    "df_final=Generar_df_2020()"
   ]
  },
  {
   "cell_type": "code",
   "execution_count": null,
   "metadata": {},
   "outputs": [],
   "source": [
    "#guarda  copia de seguridad\n",
    "df_final.to_csv(path0+\"Aemet_Total{}.csv\".format(year))#Guardar DataFrame completo limpio\n",
    "#recupera copia de seguridad\n",
    "df_final=pd.read_csv(path0+\"Aemet_Total{}.csv\".format(year),index_col=0)#Leer DataFrame limpio"
   ]
  },
  {
   "cell_type": "markdown",
   "metadata": {},
   "source": [
    "<a id='2'></a> [Home](#0)\n",
    "### 2. Mostrar información\n",
    "- Muestro una pequeño resumen estadístico del 2020"
   ]
  },
  {
   "cell_type": "code",
   "execution_count": null,
   "metadata": {},
   "outputs": [],
   "source": [
    "print(\"Número de registros generados en fichero de 2020 = {:0,.0f}\".format(float(len(df_final))))\n",
    "print(\"\\nNúmero de provincias = {}\".format(len(df_final['Provincia'].unique())))\n",
    "temp=df_final['Temperatura máxima (ºC)'].max()\n",
    "p_temp=df_final['Temperatura máxima (ºC)'].idxmax()\n",
    "print(\"\\nTemperatura máxima registrada en 2020 = {}ºC registrado en {} \".\\\n",
    "      format(temp,df_final.iloc[p_temp]['Provincia']))\n",
    "temp=df_final['Temperatura mínima (ºC)'].min()\n",
    "p_temp=df_final['Temperatura mínima (ºC)'].idxmin()\n",
    "print(\"\\nTemperatura mínima registrada en 2020 = {}ºC registrado en {} \".\\\n",
    "      format(temp,df_final.iloc[p_temp]['Provincia']))\n",
    "temp=df_final['Temperatura mínima (ºC)'].max()\n",
    "p_temp=df_final['Velocidad máxima (km/h)'].idxmax()\n",
    "print(\"\\nVelocidad máxima registrada en 2020 = {}km/h registrado en {} \".\\\n",
    "      format(temp,df_final.iloc[p_temp]['Provincia']))\n",
    "temp=df_final['Precipitación 00-24h (mm)'].max()\n",
    "p_temp=df_final['Precipitación 00-24h (mm)'].idxmax()\n",
    "print(\"\\nPrecipitación 00-24h máxima registrada en 2020 = {}mm registrado en {} \".\\\n",
    "      format(temp,df_final.iloc[p_temp]['Provincia']))"
   ]
  },
  {
   "cell_type": "markdown",
   "metadata": {},
   "source": [
    "<a id='2a'></a> [Home](#0)\n",
    "### 2.a) Preparación del mapa\n",
    "- Genero colormap para poder mostrar posteriormente información visual según sus valores y colores"
   ]
  },
  {
   "cell_type": "code",
   "execution_count": null,
   "metadata": {},
   "outputs": [],
   "source": [
    "colormap = branca.colormap.LinearColormap(\n",
    "    colors=[\"#3151EE\", \"#31EEE5\", \"#E2EE31\", \"#F26B13\", \"#F23513\"],\n",
    "    vmin=df_final['Temperatura mínima (ºC)'].min(),\n",
    "    vmax=df_final['Temperatura máxima (ºC)'].max(),)\n",
    "colormap.caption = \"Temperatura Anuales\"\n",
    "print(\"Variación de colores según la temperatura:\")\n",
    "colormap"
   ]
  },
  {
   "cell_type": "markdown",
   "metadata": {},
   "source": [
    "- Genero 3 estilos de funciones de colormap para relaciónar posteriormente las capas de planos a colores relativos"
   ]
  },
  {
   "cell_type": "code",
   "execution_count": null,
   "metadata": {},
   "outputs": [],
   "source": [
    "def style_function_TMax(x):\n",
    "    return {\n",
    "        \"fillColor\": colormap(x[\"properties\"][\"Temperatura máxima (ºC)\"]),\n",
    "        \"color\": \"black\",\n",
    "        \"weight\": 2,\n",
    "        \"fillOpacity\": 0.5,\n",
    "    }\n",
    "def style_function_TMin(x):\n",
    "    return {\n",
    "        \"fillColor\": colormap(x[\"properties\"][\"Temperatura mínima (ºC)\"]),\n",
    "        \"color\": \"black\",\n",
    "        \"weight\": 2,\n",
    "        \"fillOpacity\": 0.5,\n",
    "    }\n",
    "def style_function_TMedia(x):\n",
    "    return {\n",
    "        \"fillColor\": colormap(x[\"properties\"][\"Temperatura media (ºC)\"]),\n",
    "        \"color\": \"black\",\n",
    "        \"weight\": 2,\n",
    "        \"fillOpacity\": 0.5,\n",
    "    }"
   ]
  },
  {
   "cell_type": "markdown",
   "metadata": {},
   "source": [
    "<a id='2b'></a> [Home](#0)\n",
    "### 2.b) Generar estadísticas de (Aemet) dentro del plano (GeoJSON)\n",
    "- Cargo archivo provincias con las coordenadas de todas las provincias en formato GeoJSON"
   ]
  },
  {
   "cell_type": "code",
   "execution_count": null,
   "metadata": {},
   "outputs": [],
   "source": [
    "file_=r'provincias-espanolas.geojson'\n",
    "provincias = geopandas.read_file(file_,driver=\"GeoJSON\",)"
   ]
  },
  {
   "cell_type": "code",
   "execution_count": null,
   "metadata": {},
   "outputs": [],
   "source": [
    "#realizo copia del GeoJSON en DataFrame a procesar df_Provincia\n",
    "df_Provincia=provincias.copy().sort_values(by=['provincia'])\n",
    "\n",
    "#UNIFICA LOS NOMBRES DE LAS 2 TABLAS (Aemet y GeoJSON) \n",
    "#PARA QUE EL NOMBRE DE LAS PROVINCIAS SEAN IGUALES\n",
    "tmp=df_final['Provincia'].unique()\n",
    "tmp=np.sort(tmp)\n",
    "df_Provincia[['provincia']]=tmp\n",
    "\n",
    "#CALCULA MAX, MIN, MEDIAS Y LAS AÑADE AL DATAFRAME df_Provincia (GeoJSON)\n",
    "nombre_de_provincias=df_final['Provincia'].unique()\n",
    "nombre_de_provincias=np.sort(tmp)\n",
    "max_=[]\n",
    "min_=[]\n",
    "mean_=[]\n",
    "veloc_=[]\n",
    "precip_=[]\n",
    "#Recorro todas las provincias filtrando el DataFrame de Aemet (df_final)\n",
    "#por provincias y los valores de los que quiero buscar sus máximos, mínimos o medios\n",
    "#añadiendo cada valo de cada provincia a una lista\n",
    "for _ in nombre_de_provincias:\n",
    "    max_.append(df_final[df_final['Provincia']==_]['Temperatura máxima (ºC)'].max())\n",
    "    min_.append(df_final[df_final['Provincia']==_]['Temperatura mínima (ºC)'].min())\n",
    "    mean_.append(df_final[df_final['Provincia']==_]['Temperatura media (ºC)'].mean())\n",
    "    veloc_.append(df_final[df_final['Provincia']==_]['Velocidad máxima (km/h)'].max())\n",
    "    precip_.append(df_final[df_final['Provincia']==_]['Precipitación 00-24h (mm)'].max())\n",
    "    \n",
    "# inserto en cada provincia (GeoJSON) sus valores encontrados en (Aemet) df_final\n",
    "df_Provincia.insert(2,'Precipitación 00-24h (mm)',precip_)\n",
    "df_Provincia.insert(2,'Velocidad máxima (km/h)',veloc_)\n",
    "df_Provincia.insert(2,'Temperatura media (ºC)',mean_)\n",
    "df_Provincia.insert(2,'Temperatura mínima (ºC)',min_)\n",
    "df_Provincia.insert(2,'Temperatura máxima (ºC)',max_)\n",
    "df_Provincia.head(2)"
   ]
  },
  {
   "cell_type": "markdown",
   "metadata": {},
   "source": [
    "<a id='2c'></a> [Home](#0)\n",
    "### 2.c) Generar Tooltip (iconos) \n",
    "- Con las coordenadas de todas las ciudades de provincias a partir de las coordenadas obtenidas del archivo provincias-espanolas.json diferente al (GeoJSON) previo. En donde se ha podido obtener las coordenadas de las 52 provincias y añadirlas a las base de datos."
   ]
  },
  {
   "cell_type": "code",
   "execution_count": null,
   "metadata": {},
   "outputs": [],
   "source": [
    "#leer datos json con coordenadas de todas las ciudades de provincia\n",
    "with open('provincias-espanolas.json') as f:\n",
    "    datos = json.load(f)\n",
    "#convierte el json en dos listas con nombres y coordenadas de provincias\n",
    "Pos_Provincias_2d=[]\n",
    "pos_Provincia_name=[]\n",
    "df=pd.DataFrame(columns=['geo_point_2d'])\n",
    "\n",
    "for datos_ in datos:\n",
    "    Pos_Provincias_2d.append(datos_['fields']['geo_point_2d'])\n",
    "    pos_Provincia_name.append(datos_['fields']['provincia'])\n",
    "#Genero en una lista los datos de provincias y coordenadas de dichas provincias\n",
    "lista_Pos_Provincias_2d=list(dict(sorted(zip(pos_Provincia_name,Pos_Provincias_2d))).values()) "
   ]
  },
  {
   "cell_type": "markdown",
   "metadata": {},
   "source": [
    "<a id='2d'></a> [Home](#0)\n",
    "### 2.d) Muestra Mapa por capas.\n",
    "- Capa 1. Temperaturas Máximas anuales. \n",
    "- Capa 2. Temperaturas Medias anuales.\n",
    "- Capa 3. Temperaturas Mínimas anuales.\n",
    "- Capa 4. Iconso de provincias."
   ]
  },
  {
   "cell_type": "code",
   "execution_count": null,
   "metadata": {},
   "outputs": [],
   "source": [
    "print(\"Procesando! Por favor espere...\",end=\"\\r\")\n",
    "m = folium.Map(location=[40.416775, -3.703790],  zoom_start=5)\n",
    "fields_=[\"provincia\", \"Temperatura máxima (ºC)\",\"Temperatura media (ºC)\",\"Temperatura mínima (ºC)\"]\n",
    "aliases_=[\"Provincia\", \"T Máx(ºC)\",\"T Media(ºC)\",\"T Mín(ºC)\"]\n",
    "#Añade capa temperatura máxima por provincia/anual\n",
    "t_max_ = folium.GeoJson(\n",
    "    df_Provincia,\n",
    "    name=\"Temperaturas Máximas Anuales (ºC)\",\n",
    "    style_function=style_function_TMax,\n",
    "    tooltip=folium.GeoJsonTooltip(\n",
    "        fields=fields_, aliases=aliases_, localize=True\n",
    "    ),\n",
    ").add_to(m)\n",
    "#Añade capa temperatura media por provincia/anual\n",
    "folium.GeoJson(\n",
    "    df_Provincia,\n",
    "    name=\"Temperaturas Médias Anuales (ºC)\",\n",
    "    style_function=style_function_TMedia,\n",
    "    tooltip=folium.GeoJsonTooltip(\n",
    "        fields=fields_, aliases=aliases_, localize=True\n",
    "    ),\n",
    ").add_to(m)\n",
    "#Añade capa temperatura mínima por provincia/anual\n",
    "folium.GeoJson(\n",
    "    df_Provincia,\n",
    "    name=\"Temperaturas Mínimas Anuales (ºC)\",\n",
    "    style_function=style_function_TMin,\n",
    "    tooltip=folium.GeoJsonTooltip(\n",
    "        fields=fields_, aliases=aliases_, localize=True\n",
    "    ),\n",
    ").add_to(m)\n",
    "\n",
    "#Añade capa de los Tooltips de todas las provincias\n",
    "pos_Provincia_name.sort()\n",
    "plugins.MarkerCluster(lista_Pos_Provincias_2d, popups=pos_Provincia_name,\n",
    "                     name=\"Ubicación de las Provincias\").add_to(m)\n",
    "folium.LayerControl().add_to(m)\n",
    "colormap.add_to(m)\n",
    "\n",
    "#inserta barra de busqueda de provincia\n",
    "Search(\n",
    "    layer=t_max_,\n",
    "    geom_type=\"Point\",\n",
    "    placeholder=\"Buscar Provincia de España\",\n",
    "    collapsed=False,\n",
    "    search_label=\"provincia\",\n",
    ").add_to(m)\n",
    "\n",
    "#Generar un mapa en miniatura en la parte inferior derecha\n",
    "minimap = MiniMap()\n",
    "m.add_child(minimap)\n",
    "\n",
    "print(\"                  Temperatura Máximas/Mínimas/Medias (anuales) por Provincias        \")\n",
    "print(\"                  Desmarca alguna capa! En la parte superior derecha         \")\n",
    "m #muestra mapa"
   ]
  },
  {
   "cell_type": "markdown",
   "metadata": {},
   "source": [
    "<a id='2e'></a> [Home](#0)\n",
    "### 2.e) Genera gráfico Popup por provincia.\n",
    "- Genera gráfico independiente de temperaturas para cada una de las ciudades de los meses de 2020."
   ]
  },
  {
   "cell_type": "code",
   "execution_count": null,
   "metadata": {},
   "outputs": [],
   "source": [
    "tmp=df_final['Provincia'].unique()#tmp= nº total de provincias (52)\n",
    "tmp=np.sort(tmp)\n",
    "Y= ['TMín (ºC)', 'TMedia (ºC)', 'TMáx (ºC)']\n",
    "X = range(1, 13, 1)\n",
    "grafica0={}\n",
    "for provincia_ in tmp:\n",
    "    #grafica comienza añadiendo un dict con el eje X que será igual al nº de meses (12)\n",
    "    grafica = {'index': X}\n",
    "    #añade al diccionario una lista TMin que será igual al filtrado de cada una de las provincias \n",
    "    #(provincia_) y cada uno de los meses (mes_) \n",
    "    grafica['TMin']=[df_final[(df_final['Provincia']==provincia_)&(df_final['Mes']==mes_)]\n",
    "        ['Temperatura mínima (ºC)'].min() for mes_ in X]\n",
    "    grafica['TMedia']=[df_final[(df_final['Provincia']==provincia_)&(df_final['Mes']==mes_)]\n",
    "        ['Temperatura media (ºC)'].mean() for mes_ in X]\n",
    "    grafica['TMax']=[df_final[(df_final['Provincia']==provincia_)&(df_final['Mes']==mes_)]\n",
    "        ['Temperatura máxima (ºC)'].max() for mes_ in X]\n",
    "    time.sleep(0.01) #Para evitar problemas de visualización genero un retardo de 10ms\n",
    "    print( \"Procesando gráfico para (\",provincia_,\")                  \",end=\"\\r\")\n",
    "    #realiza una conversión mediante vincent para poder lanzar posteriormente el Popup\n",
    "    #con folium\n",
    "    line = vincent.Line(grafica, iter_idx='index',width=350,height=150)\n",
    "    line.axis_titles(x='Mes 2020', y='Temp.(ºC)')\n",
    "    line.legend(title='Categorias')\n",
    "    data = json.loads(line.to_json())\n",
    "    #añade los datos convertidos a grafica0 para añadirlo en folium cuando se genere\n",
    "    #el mapa con los tooltips y este gráfico popup\n",
    "    grafica0[provincia_]=data     \n",
    "print( \"Procesando gráfico finalizado!                  \",end=\"\\r\")        "
   ]
  },
  {
   "cell_type": "markdown",
   "metadata": {},
   "source": [
    "<a id='2f'></a> [Home](#0)\n",
    "### 2.f) Mapa Popup gráfico por provincia.\n",
    "- Muestra cada uno de los graficos generados anteriormente cuando se hace click sobre cualquiera de los iconos de las provincias\n",
    " - Se abre un Popup con una triple gráfica de los 12 meses y sus temperaturas máx,med y mím"
   ]
  },
  {
   "cell_type": "code",
   "execution_count": null,
   "metadata": {},
   "outputs": [],
   "source": [
    "print(\"Procesando! Por favor espere...\",end=\"\\r\")\n",
    "m2 = folium.Map(location=[40.41, -3.70],  zoom_start=6)\n",
    "fields_=[\"provincia\", \"Temperatura máxima (ºC)\",\"Temperatura media (ºC)\",\"Temperatura mínima (ºC)\"]\n",
    "aliases_=[\"Provincia\", \"T Máx(ºC)\",\"T Media(ºC)\",\"T Mín(ºC)\"]\n",
    "# #Añade capa temperatura máxima por provincia/anual\n",
    "t_max_ = folium.GeoJson(\n",
    "    df_Provincia,\n",
    "    #style_function=style_function_TMax,\n",
    "    tooltip=folium.GeoJsonTooltip(\n",
    "        fields=fields_, aliases=aliases_, localize=True\n",
    "    ),\n",
    ").add_to(m2)\n",
    "#Añade capa temperatura mínima por provincia/anual\n",
    "folium.GeoJson(\n",
    "    df_Provincia,\n",
    "    #style_function=style_function_TMedia,\n",
    "    tooltip=folium.GeoJsonTooltip(\n",
    "        fields=fields_, aliases=aliases_, localize=True\n",
    "    ),\n",
    ").add_to(m2)\n",
    "#Añade capa temperatura mínima por provincia/anual\n",
    "folium.GeoJson(\n",
    "    df_Provincia,\n",
    "    #style_function=style_function_TMin,\n",
    "    tooltip=folium.GeoJsonTooltip(\n",
    "        fields=fields_, aliases=aliases_, localize=True\n",
    "    ),\n",
    ").add_to(m2)\n",
    "#Añade gráficos Popup las provincias\n",
    "pos_Provincia_name.sort()\n",
    "for num,provincia_ in enumerate(tmp):\n",
    "    folium.Marker(\n",
    "        location=lista_Pos_Provincias_2d[num],\n",
    "        popup=folium.Popup(max_width=500).add_child(\n",
    "            folium.Vega(grafica0[provincia_], width=450, height=200)\n",
    "        ),\n",
    "    ).add_to(m2)\n",
    "\n",
    "#inserta barra de busqueda de provincia\n",
    "Search(\n",
    "    layer=t_max_,\n",
    "    geom_type=\"Point\",\n",
    "    placeholder=\"Buscar Provincia de España\",\n",
    "    collapsed=True,\n",
    "    search_label=\"provincia\",\n",
    ").add_to(m2)\n",
    "\n",
    "#Para generar un mapa en miniatura en la parte inferior derecha\n",
    "minimap = MiniMap()\n",
    "m2.add_child(minimap)\n",
    "\n",
    "\n",
    "print(\"              Gráfica de Temperatura por Provincias                                    \")\n",
    "print(\"              Pulsa sobre cualquier provincia para ver su gráfico por meses                \")\n",
    "m2"
   ]
  },
  {
   "cell_type": "markdown",
   "metadata": {},
   "source": [
    "<a id='2g'></a> [Home](#0)\n",
    "### 2.g) Función genera gráfico Popup por provincia.\n",
    "- Genera gráfico independiente generico para usarlo posteriormente para mostrar velocidad del viento y precipitaciones para cada una de las ciudades de los meses de 2020.\n",
    " - Funciomiento parecido al 2.e)"
   ]
  },
  {
   "cell_type": "code",
   "execution_count": null,
   "metadata": {},
   "outputs": [],
   "source": [
    "def genera_grafico_por_provincias(columna):\n",
    "    tmp=df_final['Provincia'].unique()\n",
    "    tmp=np.sort(tmp)\n",
    "\n",
    "    Y= ['columna']\n",
    "    X = range(1, 13, 1)\n",
    "    grafica0={}\n",
    "    for provincia_ in tmp:\n",
    "        grafica = {'index': X}\n",
    "        grafica[columna]=[df_final[(df_final['Provincia']==provincia_)&(df_final['Mes']==mes_)]\n",
    "            [columna].max() for mes_ in X]\n",
    "        time.sleep(0.01) #Para evitar problemas de visualización genero un retardo de 10ms\n",
    "        print( \"Procesando gráfico\",columna,\" para (\",provincia_,\")                  \",end=\"\\r\")\n",
    "        line = vincent.Line(grafica, iter_idx='index',width=350,height=150)\n",
    "        line.axis_titles(x='Mes 2020', y=columna)\n",
    "        line.legend(title='Categorias')\n",
    "        data = json.loads(line.to_json())\n",
    "        grafica0[provincia_]=data\n",
    "        #display(grafica)\n",
    "    print( \"Generador gráfico finalizado!                                  \",end=\"\\r\")  \n",
    "    return grafica0"
   ]
  },
  {
   "cell_type": "markdown",
   "metadata": {},
   "source": [
    "<a id='2h'></a> [Home](#0)\n",
    "### 2.h) Función mapa Popup gráfico por provincia.\n",
    "- Muestra cada uno de los graficos generados anteriormente cuando se hace click sobre cualquiera de los iconos de las provincias\n",
    "- Se abre un Popup con una triple gráfica de los 12 meses y sus temperaturas máx,med y mím.\n",
    " - Funcionamiento igual al 2.f)"
   ]
  },
  {
   "cell_type": "code",
   "execution_count": null,
   "metadata": {},
   "outputs": [],
   "source": [
    "def muestra_mapa_pantalla(columna):\n",
    "    print(\"Procesando! Por favor espere...\",end=\"\\r\")\n",
    "    m3 = folium.Map(location=[40.41, -3.70],  zoom_start=6)\n",
    "    fields_=[\"provincia\", columna]\n",
    "    aliases_=[\"Provincia\", columna]\n",
    "    # #Añade capa temperatura máxima por provincia/anual\n",
    "    t_max_ = folium.GeoJson(\n",
    "        df_Provincia,\n",
    "        #style_function=style_function_TMax,\n",
    "        tooltip=folium.GeoJsonTooltip(\n",
    "            fields=fields_, aliases=aliases_, localize=True\n",
    "        ),\n",
    "    ).add_to(m3)\n",
    "\n",
    "\n",
    "    pos_Provincia_name.sort()\n",
    "    for num,provincia_ in enumerate(tmp):\n",
    "        folium.Marker(\n",
    "            location=lista_Pos_Provincias_2d[num],\n",
    "            popup=folium.Popup(max_width=500).add_child(\n",
    "                folium.Vega(grafica0[provincia_], width=450, height=200)\n",
    "            ),\n",
    "        ).add_to(m3)\n",
    "\n",
    "    Search(\n",
    "        layer=t_max_,\n",
    "        geom_type=\"Point\",\n",
    "        placeholder=\"Buscar Provincia de España\",\n",
    "        collapsed=False,\n",
    "        search_label=\"provincia\",\n",
    "    ).add_to(m3)\n",
    "\n",
    "    print(\"              Gráfica de {}                                        \".format(columna))\n",
    "    print(\"              Pulsa sobre cualquier provincia para ver su gráfico por meses                \")\n",
    "    return m3"
   ]
  },
  {
   "cell_type": "markdown",
   "metadata": {},
   "source": [
    "<a id='2i'></a> [Home](#0)\n",
    "### 2.i) Mapa gráfico velocidad del viento por provincia."
   ]
  },
  {
   "cell_type": "code",
   "execution_count": null,
   "metadata": {},
   "outputs": [],
   "source": [
    "grafica0=genera_grafico_por_provincias('Velocidad máxima (km/h)')"
   ]
  },
  {
   "cell_type": "code",
   "execution_count": null,
   "metadata": {},
   "outputs": [],
   "source": [
    "m3=muestra_mapa_pantalla('Velocidad máxima (km/h)')\n",
    "m3"
   ]
  },
  {
   "cell_type": "markdown",
   "metadata": {},
   "source": [
    "<a id='2j'></a> [Home](#0)\n",
    "### 2.j) Mapa gráfico precipitaciones por provincia."
   ]
  },
  {
   "cell_type": "code",
   "execution_count": null,
   "metadata": {},
   "outputs": [],
   "source": [
    "grafica0=genera_grafico_por_provincias('Precipitación 00-24h (mm)')"
   ]
  },
  {
   "cell_type": "code",
   "execution_count": null,
   "metadata": {},
   "outputs": [],
   "source": [
    "m3=muestra_mapa_pantalla('Precipitación 00-24h (mm)')\n",
    "m3"
   ]
  }
 ],
 "metadata": {
  "kernelspec": {
   "display_name": "Python 3",
   "language": "python",
   "name": "python3"
  },
  "language_info": {
   "codemirror_mode": {
    "name": "ipython",
    "version": 3
   },
   "file_extension": ".py",
   "mimetype": "text/x-python",
   "name": "python",
   "nbconvert_exporter": "python",
   "pygments_lexer": "ipython3",
   "version": "3.8.5"
  }
 },
 "nbformat": 4,
 "nbformat_minor": 4
}
